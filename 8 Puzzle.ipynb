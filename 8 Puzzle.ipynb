{
 "cells": [
  {
   "cell_type": "code",
   "execution_count": 1,
   "id": "10bfcb47",
   "metadata": {},
   "outputs": [],
   "source": [
    "from collections import Counter"
   ]
  },
  {
   "cell_type": "code",
   "execution_count": 2,
   "id": "8303974c",
   "metadata": {},
   "outputs": [],
   "source": [
    "def isGoal(state,goalState):\n",
    "    if state == goalState:\n",
    "        return True\n",
    "    return False"
   ]
  },
  {
   "cell_type": "code",
   "execution_count": 3,
   "id": "5763942e",
   "metadata": {},
   "outputs": [],
   "source": [
    "def moveZero(state,newZeroIndex):\n",
    "    state=list(state)\n",
    "    i=state.index('0')\n",
    "    state[i],state[newZeroIndex]=state[newZeroIndex],state[i]\n",
    "   # state=str(state)\n",
    "    return state"
   ]
  },
  {
   "cell_type": "code",
   "execution_count": 4,
   "id": "6a9eca88",
   "metadata": {},
   "outputs": [],
   "source": [
    "def findNeighbours(state):\n",
    "    neighbours=[]\n",
    "    zero=state.find('0')\n",
    "    if zero > 2:\n",
    "        neighbours.append(moveZero(state,zero-3))\n",
    "    if zero < 6:\n",
    "        neighbours.append(moveZero(state,zero+3))\n",
    "    if zero == 0 or zero == 1 or zero == 3 or zero == 4 or zero == 6 or zero == 7:\n",
    "        neighbours.append(moveZero(state,zero+1))\n",
    "    if zero == 1 or zero == 2 or zero == 4 or zero == 5 or zero == 7 or zero == 8:\n",
    "        neighbours.append(moveZero(state,zero-1))\n",
    "    return neighbours"
   ]
  },
  {
   "cell_type": "code",
   "execution_count": 5,
   "id": "fe2efc2e",
   "metadata": {},
   "outputs": [],
   "source": [
    "def BFS(state,goal):\n",
    "    frontier={state:True} ## Making it dict \"or map\" for optimization\n",
    "    explored=set()\n",
    "    parent_map={state:None}\n",
    "    while frontier:\n",
    "        currState=next(iter(frontier)) ##getting the first element in the map , same as queue\n",
    "        frontier.pop(currState)\n",
    "        explored.add(currState) ##Explored set\n",
    "        if isGoal(currState,goal):\n",
    "            return parent_map , currState , explored\n",
    "        for neighbour in findNeighbours(currState):\n",
    "            string=\"\"\n",
    "            neighbour=string.join(neighbour) ## neighbour is a list of charachters , so they are converted to one string\n",
    "            if neighbour not in frontier and neighbour not in explored:\n",
    "                frontier[neighbour]=True\n",
    "                parent_map[neighbour]=currState"
   ]
  },
  {
   "cell_type": "code",
   "execution_count": 6,
   "id": "66815ee2",
   "metadata": {},
   "outputs": [],
   "source": [
    "def deliverables(parent_map,explored,currState,startState):\n",
    "    path_to_goal=[]\n",
    "    cost=0\n",
    "    current=currState\n",
    "    while parent_map[current]:\n",
    "        cost+=1\n",
    "        path_to_goal.append(current)\n",
    "        current=parent_map[current]\n",
    "    path_to_goal.append(startState)\n",
    "    return path_to_goal , cost"
   ]
  },
  {
   "cell_type": "code",
   "execution_count": 7,
   "id": "bc93f412",
   "metadata": {},
   "outputs": [],
   "source": [
    "def loopOverState(state):\n",
    "    countDect = Counter(state)\n",
    "    for char, count in countDect.items():\n",
    "        if (count > 1):\n",
    "            return False\n",
    "        if (char =='9'):\n",
    "            return False\n",
    "    return True"
   ]
  },
  {
   "cell_type": "code",
   "execution_count": 8,
   "id": "7452a181",
   "metadata": {},
   "outputs": [],
   "source": [
    "def checkInput(state):\n",
    "    if len(state)!=9:\n",
    "        return False\n",
    "    if (loopOverState(state)==False):\n",
    "        return False\n",
    "    if (state.isnumeric()==False):\n",
    "        return False\n",
    "    return True"
   ]
  },
  {
   "cell_type": "code",
   "execution_count": 9,
   "id": "03161996",
   "metadata": {},
   "outputs": [],
   "source": [
    "def checkIfSolvable(state):\n",
    "    inversions=0\n",
    "    for i in range(0,9):\n",
    "        for j in range(i+1,9):\n",
    "            if int(state[i])>int(state[j]) and int(state[i])!=0 and int(state[j])!=0:\n",
    "                inversions+=1\n",
    "    if(inversions%2==0):\n",
    "        return True\n",
    "    else:\n",
    "        return False"
   ]
  },
  {
   "cell_type": "code",
   "execution_count": 10,
   "id": "2ef1fd0a",
   "metadata": {},
   "outputs": [],
   "source": [
    "def printing(printable,goal):\n",
    "    if(goal==\"path\"):\n",
    "        printable.reverse()\n",
    "    for i in range(len(printable)):\n",
    "        for j in range(0,10,3):\n",
    "            print(\" \".join(printable[i][j:j+3]))\n",
    "        print(\"======================================\")"
   ]
  },
  {
   "cell_type": "code",
   "execution_count": 22,
   "id": "f9099022",
   "metadata": {},
   "outputs": [],
   "source": [
    "import time\n",
    "def startGame():\n",
    "    startState=input(\"Enter start state:\\n\")\n",
    "    if(checkInput(startState)==False):\n",
    "        print(\"Invalid input\\n\")\n",
    "    elif(checkIfSolvable(startState)==False):\n",
    "        print(\"Puzzle is not solvable\\n\")\n",
    "    else:\n",
    "        parent_map={}\n",
    "        explored=set()\n",
    "        currentState=startState\n",
    "       # t0=time.time()\n",
    "        parent_map,currentState,explored=BFS(startState,\"012345678\")\n",
    "       # t1=time.time()\n",
    "       # time=t1-t0\n",
    "        p,c=deliverables(parent_map,explored,currentState,startState)\n",
    "        print(\"Path to Goal:\\n\")\n",
    "        print(\"=============\\n\")\n",
    "        printing(p,\"path\")\n",
    "        print(\"Explored:\\n\")\n",
    "        print(\"=============\\n\")\n",
    "        printing(list(explored),\"e\")       \n",
    "#         print(\"Time expanded:\\n\")\n",
    "#         print(time)\n",
    "        print(\"Cost:\\n====\\n\")\n",
    "        print(c)"
   ]
  },
  {
   "cell_type": "code",
   "execution_count": 23,
   "id": "2f1430f8",
   "metadata": {},
   "outputs": [
    {
     "name": "stdout",
     "output_type": "stream",
     "text": [
      "Enter start state:\n",
      "125340678\n",
      "Path to Goal:\n",
      "\n",
      "=============\n",
      "\n",
      "1 2 5\n",
      "3 4 0\n",
      "6 7 8\n",
      "\n",
      "======================================\n",
      "1 2 0\n",
      "3 4 5\n",
      "6 7 8\n",
      "\n",
      "======================================\n",
      "1 0 2\n",
      "3 4 5\n",
      "6 7 8\n",
      "\n",
      "======================================\n",
      "0 1 2\n",
      "3 4 5\n",
      "6 7 8\n",
      "\n",
      "======================================\n",
      "Explored:\n",
      "\n",
      "=============\n",
      "\n",
      "1 2 5\n",
      "3 4 0\n",
      "6 7 8\n",
      "\n",
      "======================================\n",
      "0 1 2\n",
      "3 4 5\n",
      "6 7 8\n",
      "\n",
      "======================================\n",
      "1 2 5\n",
      "3 0 4\n",
      "6 7 8\n",
      "\n",
      "======================================\n",
      "1 2 0\n",
      "3 4 5\n",
      "6 7 8\n",
      "\n",
      "======================================\n",
      "1 0 2\n",
      "3 4 5\n",
      "6 7 8\n",
      "\n",
      "======================================\n",
      "1 2 5\n",
      "0 3 4\n",
      "6 7 8\n",
      "\n",
      "======================================\n",
      "1 2 5\n",
      "3 7 4\n",
      "6 0 8\n",
      "\n",
      "======================================\n",
      "1 0 5\n",
      "3 2 4\n",
      "6 7 8\n",
      "\n",
      "======================================\n",
      "1 4 2\n",
      "3 0 5\n",
      "6 7 8\n",
      "\n",
      "======================================\n",
      "1 2 5\n",
      "3 4 8\n",
      "6 7 0\n",
      "\n",
      "======================================\n",
      "1 2 5\n",
      "3 4 8\n",
      "6 0 7\n",
      "\n",
      "======================================\n",
      "Cost:\n",
      "====\n",
      "\n",
      "3\n"
     ]
    }
   ],
   "source": [
    "startGame()"
   ]
  },
  {
   "cell_type": "code",
   "execution_count": null,
   "id": "acab7360",
   "metadata": {},
   "outputs": [],
   "source": []
  }
 ],
 "metadata": {
  "kernelspec": {
   "display_name": "Python 3 (ipykernel)",
   "language": "python",
   "name": "python3"
  },
  "language_info": {
   "codemirror_mode": {
    "name": "ipython",
    "version": 3
   },
   "file_extension": ".py",
   "mimetype": "text/x-python",
   "name": "python",
   "nbconvert_exporter": "python",
   "pygments_lexer": "ipython3",
   "version": "3.9.12"
  }
 },
 "nbformat": 4,
 "nbformat_minor": 5
}
