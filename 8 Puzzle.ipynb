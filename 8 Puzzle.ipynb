{
 "cells": [
  {
   "cell_type": "code",
   "execution_count": 1,
   "id": "10bfcb47",
   "metadata": {},
   "outputs": [],
   "source": [
    "from collections import Counter\n",
    "import sys"
   ]
  },
  {
   "cell_type": "markdown",
   "id": "6d2bc8ab",
   "metadata": {},
   "source": [
    "## Helpers"
   ]
  },
  {
   "cell_type": "code",
   "execution_count": 2,
   "id": "8303974c",
   "metadata": {},
   "outputs": [],
   "source": [
    "def isGoal(state,goalState):\n",
    "    if state == goalState:\n",
    "        return True\n",
    "    return False"
   ]
  },
  {
   "cell_type": "code",
   "execution_count": 3,
   "id": "5763942e",
   "metadata": {},
   "outputs": [],
   "source": [
    "def moveZero(state,newZeroIndex):\n",
    "    state=list(state)\n",
    "    i=state.index('0')\n",
    "    state[i],state[newZeroIndex]=state[newZeroIndex],state[i]\n",
    "   # state=str(state)\n",
    "    return state"
   ]
  },
  {
   "cell_type": "code",
   "execution_count": 4,
   "id": "6a9eca88",
   "metadata": {},
   "outputs": [],
   "source": [
    "def findNeighbours(state):\n",
    "    neighbours=[]\n",
    "    zero=state.find('0')\n",
    "    if zero > 2:\n",
    "        neighbours.append(moveZero(state,zero-3))\n",
    "    if zero < 6:\n",
    "        neighbours.append(moveZero(state,zero+3))\n",
    "    if zero == 0 or zero == 1 or zero == 3 or zero == 4 or zero == 6 or zero == 7:\n",
    "        neighbours.append(moveZero(state,zero+1))\n",
    "    if zero == 1 or zero == 2 or zero == 4 or zero == 5 or zero == 7 or zero == 8:\n",
    "        neighbours.append(moveZero(state,zero-1))\n",
    "    return neighbours"
   ]
  },
  {
   "cell_type": "markdown",
   "id": "52b379b8",
   "metadata": {},
   "source": [
    "# Algorithms"
   ]
  },
  {
   "cell_type": "markdown",
   "id": "eac0d015",
   "metadata": {},
   "source": [
    "## BFS"
   ]
  },
  {
   "cell_type": "code",
   "execution_count": 5,
   "id": "fe2efc2e",
   "metadata": {},
   "outputs": [],
   "source": [
    "def BFS(state,goal):\n",
    "    frontier={state:True} ## Making it dict \"or map\" for optimization\n",
    "    explored=set()\n",
    "    parent_map={state:None}\n",
    "    while frontier:\n",
    "        currState=next(iter(frontier)) ##getting the first element in the map , same as queue\n",
    "        frontier.pop(currState)\n",
    "        explored.add(currState) ##Explored set\n",
    "        if isGoal(currState,goal):\n",
    "            return parent_map , currState , explored\n",
    "        for neighbour in findNeighbours(currState):\n",
    "            string=\"\"\n",
    "            neighbour=string.join(neighbour) ## neighbour is a list of charachters , so they are converted to one string\n",
    "            if neighbour not in frontier and neighbour not in explored:\n",
    "                frontier[neighbour]=True\n",
    "                parent_map[neighbour]=currState"
   ]
  },
  {
   "cell_type": "markdown",
   "id": "8998d70b",
   "metadata": {},
   "source": [
    "## DFS"
   ]
  },
  {
   "cell_type": "code",
   "execution_count": 6,
   "id": "05432ecd",
   "metadata": {},
   "outputs": [],
   "source": [
    "def DFS(state,goal):\n",
    "    frontier={state:True}\n",
    "    explored=set()\n",
    "    parent_map={state:None}\n",
    "    while frontier:\n",
    "        currState=frontier.popitem()[0] \n",
    "        explored.add(currState) ##Explored set\n",
    "        if isGoal(currState,goal):\n",
    "            return parent_map , currState , explored\n",
    "        for neighbour in findNeighbours(currState):\n",
    "            string=\"\"\n",
    "            neighbour=string.join(neighbour) ## neighbour is a list of charachters , so they are converted to one string\n",
    "            if neighbour not in frontier and neighbour not in explored:\n",
    "                frontier[neighbour]=True\n",
    "                parent_map[neighbour]=currState"
   ]
  },
  {
   "cell_type": "markdown",
   "id": "a060e28e",
   "metadata": {},
   "source": [
    "## A*"
   ]
  },
  {
   "cell_type": "code",
   "execution_count": 7,
   "id": "afc4edff",
   "metadata": {},
   "outputs": [],
   "source": [
    "import math\n",
    "def manhattanDist(x_start,y_start,x_goal,y_goal):\n",
    "    return abs(x_start-x_goal)+abs(y_start-y_goal)\n",
    "\n",
    "def euclideanDist(x_start,y_start,x_goal,y_goal):\n",
    "    return math.sqrt(abs(x_start-x_goal)**2+abs(y_start-y_goal)**2)\n",
    "    "
   ]
  },
  {
   "cell_type": "code",
   "execution_count": 8,
   "id": "0542bc5b",
   "metadata": {},
   "outputs": [],
   "source": [
    "def heuristic(equation,state,goal):\n",
    "    state=list(state)\n",
    "    goal=list(goal)\n",
    "    H=0\n",
    "    for i,s in enumerate(state):\n",
    "        if s=='0':\n",
    "            i=0\n",
    "            s=0\n",
    "        else:\n",
    "            s=goal.index(s)\n",
    "        x_start,y_start=int(i/3),i%3\n",
    "        x_goal,y_goal=int(int(s)/3),int(s)%3\n",
    "        \n",
    "        if equation==\"manhattan\":\n",
    "            H+=manhattanDist(x_start,y_start,x_goal,y_goal)\n",
    "        elif equation==\"euclidean\":\n",
    "            H+=euclideanDist(x_start,y_start,x_goal,y_goal)\n",
    "            \n",
    "    return H"
   ]
  },
  {
   "cell_type": "code",
   "execution_count": 9,
   "id": "31ba2152",
   "metadata": {},
   "outputs": [],
   "source": [
    "def decrease_key(F,equation,currState,G,goal):\n",
    "    Fnew=heuristic(equation,currState,goal) + G + 1\n",
    "    return min(Fnew,F)"
   ]
  },
  {
   "cell_type": "code",
   "execution_count": 10,
   "id": "a87b9ad7",
   "metadata": {},
   "outputs": [],
   "source": [
    "def A_star(equation,state,goal):\n",
    "    frontier={state: heuristic(equation,state,goal)}\n",
    "    parent_map={state: None}\n",
    "    explored=set()\n",
    "    \n",
    "    while frontier:\n",
    "        currState=min(frontier,key=frontier.get)\n",
    "        G=frontier[currState] - heuristic(equation,currState,goal) + 1 #F=G+H ,G=F-H\n",
    "        explored.add(currState)\n",
    "        frontier.pop(currState)\n",
    "        \n",
    "        if isGoal(currState,goal):\n",
    "            return parent_map,currState,explored\n",
    "        \n",
    "        \n",
    "        for neighbour in findNeighbours(currState):\n",
    "            string=\"\"\n",
    "            neighbour=string.join(neighbour) ## neighbour is a list of charachters , so they are converted to one string\n",
    "            if neighbour not in frontier and neighbour not in explored:\n",
    "                frontier[neighbour]=heuristic(equation,neighbour,goal)+G+1\n",
    "                parent_map[neighbour]=currState\n",
    "            elif neighbour in frontier:\n",
    "                frontier[neighbour]=decrease_key(frontier[neighbour],equation,neighbour,G,goal)\n",
    "    return False"
   ]
  },
  {
   "cell_type": "markdown",
   "id": "d1c4fb84",
   "metadata": {},
   "source": [
    "# Checkers and printing"
   ]
  },
  {
   "cell_type": "code",
   "execution_count": 11,
   "id": "66815ee2",
   "metadata": {},
   "outputs": [],
   "source": [
    "def deliverables(parent_map,explored,currState,startState):\n",
    "    path_to_goal=[]\n",
    "    cost=0\n",
    "    current=currState\n",
    "    while parent_map[current]:\n",
    "        cost+=1\n",
    "        path_to_goal.append(current)\n",
    "        current=parent_map[current]\n",
    "    path_to_goal.append(startState)\n",
    "    return path_to_goal , cost"
   ]
  },
  {
   "cell_type": "code",
   "execution_count": 12,
   "id": "bc93f412",
   "metadata": {},
   "outputs": [],
   "source": [
    "def loopOverState(state):\n",
    "    countDect = Counter(state)\n",
    "    for char, count in countDect.items():\n",
    "        if (count > 1):\n",
    "            return False\n",
    "        if (char =='9'):\n",
    "            return False\n",
    "    return True"
   ]
  },
  {
   "cell_type": "code",
   "execution_count": 13,
   "id": "7452a181",
   "metadata": {},
   "outputs": [],
   "source": [
    "def checkInput(state):\n",
    "    if len(state)!=9:\n",
    "        return False\n",
    "    if (loopOverState(state)==False):\n",
    "        return False\n",
    "    if (state.isnumeric()==False):\n",
    "        return False\n",
    "    return True"
   ]
  },
  {
   "cell_type": "code",
   "execution_count": 14,
   "id": "03161996",
   "metadata": {},
   "outputs": [],
   "source": [
    "def checkIfSolvable(state):\n",
    "    inversions=0\n",
    "    for i in range(0,9):\n",
    "        for j in range(i+1,9):\n",
    "            if int(state[i])>int(state[j]) and int(state[i])!=0 and int(state[j])!=0:\n",
    "                inversions+=1\n",
    "    if(inversions%2==0):\n",
    "        return True\n",
    "    else:\n",
    "        return False"
   ]
  },
  {
   "cell_type": "code",
   "execution_count": 15,
   "id": "2ef1fd0a",
   "metadata": {},
   "outputs": [],
   "source": [
    "def printing(printable,goal):\n",
    "    if(goal==\"path\"):\n",
    "        printable.reverse()\n",
    "    for i in range(len(printable)):\n",
    "        for j in range(0,10,3):\n",
    "            print(\" \".join(printable[i][j:j+3]))\n",
    "        print(\"======================================\")"
   ]
  },
  {
   "cell_type": "markdown",
   "id": "07025fc1",
   "metadata": {},
   "source": [
    "# Menu"
   ]
  },
  {
   "cell_type": "code",
   "execution_count": 16,
   "id": "f9099022",
   "metadata": {},
   "outputs": [],
   "source": [
    "def startGame():\n",
    "    import time\n",
    "    startState=input(\"Enter start state:\\n\")\n",
    "    if(checkInput(startState)==False):\n",
    "        print(\"Invalid input\\n\")\n",
    "    elif(checkIfSolvable(startState)==False):\n",
    "        print(\"Puzzle is not solvable\\n\")\n",
    "    else:\n",
    "        algo=input(\"Please Enter algorithm\\n\")\n",
    "        parent_map={}\n",
    "        explored=set()\n",
    "        currentState=startState\n",
    "        t0=time.time()\n",
    "        if(algo==\"BFS\"):\n",
    "            parent_map,currentState,explored=BFS(startState,\"012345678\")\n",
    "        elif(algo==\"DFS\"):\n",
    "            parent_map,currentState,explored=DFS(startState,\"012345678\")\n",
    "        elif(algo==\"A*\"):\n",
    "            equ=input(\"Please enter equation to be used: euclidean or manhattan\\n\")\n",
    "            if(equ==\"manhattan\"):\n",
    "                parent_map,currentState,explored=A_star(\"manhattan\",startState,\"012345678\")\n",
    "            elif(equ==\"euclidean\"):\n",
    "                parent_map,currentState,explored=A_star(\"euclidean\",startState,\"012345678\")\n",
    "            else:\n",
    "                print(\"Wrong input , program will exit\\n\")\n",
    "                sys.exit()\n",
    "        else:\n",
    "                print(\"Wrong input , program will exit\\n\")\n",
    "                sys.exit()            \n",
    "        p,c=deliverables(parent_map,explored,currentState,startState)\n",
    "        t1=time.time()\n",
    "        time=t1-t0\n",
    "        print(\"Path to Goal:\\n\")\n",
    "        print(\"=============\\n\")\n",
    "        printing(p,\"path\")\n",
    "        print(\"Explored:\\n\")\n",
    "        print(\"========\\n\")\n",
    "        printing(list(explored),\"e\")     \n",
    "        print(\"Time expanded:\\n==============\\n\")\n",
    "        print(time)\n",
    "        print(\"\\nCost:\\n====\\n\")\n",
    "        print(c)"
   ]
  },
  {
   "cell_type": "code",
   "execution_count": 18,
   "id": "acab7360",
   "metadata": {
    "scrolled": true
   },
   "outputs": [
    {
     "name": "stdout",
     "output_type": "stream",
     "text": [
      "Enter start state:\n",
      "012345678\n",
      "Please Enter algorithm\n",
      "A*\n",
      "Please enter equation to be used: euclidean or manhattan\n",
      "hamo\n",
      "Wrong input , program will exit\n",
      "\n"
     ]
    },
    {
     "ename": "SystemExit",
     "evalue": "",
     "output_type": "error",
     "traceback": [
      "An exception has occurred, use %tb to see the full traceback.\n",
      "\u001b[1;31mSystemExit\u001b[0m\n"
     ]
    }
   ],
   "source": [
    "startGame()"
   ]
  },
  {
   "cell_type": "code",
   "execution_count": null,
   "id": "b97d472c",
   "metadata": {},
   "outputs": [],
   "source": []
  }
 ],
 "metadata": {
  "kernelspec": {
   "display_name": "Python 3 (ipykernel)",
   "language": "python",
   "name": "python3"
  },
  "language_info": {
   "codemirror_mode": {
    "name": "ipython",
    "version": 3
   },
   "file_extension": ".py",
   "mimetype": "text/x-python",
   "name": "python",
   "nbconvert_exporter": "python",
   "pygments_lexer": "ipython3",
   "version": "3.9.12"
  }
 },
 "nbformat": 4,
 "nbformat_minor": 5
}
